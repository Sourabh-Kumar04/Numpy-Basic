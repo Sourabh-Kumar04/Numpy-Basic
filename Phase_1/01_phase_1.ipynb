{
 "cells": [
  {
   "cell_type": "markdown",
   "id": "f7625777",
   "metadata": {},
   "source": [
    "# Numpy array and basics\n"
   ]
  },
  {
   "cell_type": "code",
   "execution_count": 19,
   "id": "0a16e23c",
   "metadata": {},
   "outputs": [],
   "source": [
    "import numpy as np\n",
    "import time"
   ]
  },
  {
   "cell_type": "markdown",
   "id": "683fe42d",
   "metadata": {},
   "source": [
    "### Created array from list\n",
    "\n",
    "`np.array()` expects a single argument that is a list (or list of lists for 2D). You're passing two separate lists as two arguments, which is invalid."
   ]
  },
  {
   "cell_type": "code",
   "execution_count": 20,
   "metadata": {},
   "outputs": [
    {
     "name": "stdout",
     "output_type": "stream",
     "text": [
      "1D Array: [1 2 3 4 5]\n",
      "1D Array: [[1 2 3]\n",
      " [4 5 6]]\n"
     ]
    }
   ],
   "source": [
    "arr_1d = np.array([1, 2, 3, 4, 5])\n",
    "print(f\"1D Array: {arr_1d}\")\n",
    "\n",
    "# arr_2d = np.array([1, 2, 3], [4, 5, 6])  # ERROR\n",
    "arr_2d = np.array([[1, 2, 3], [4, 5, 6]])\n",
    "print(f\"1D Array: {arr_2d}\")"
   ]
  },
  {
   "cell_type": "markdown",
   "id": "9fe6890a",
   "metadata": {},
   "source": [
    "## List vs numpy array"
   ]
  },
  {
   "cell_type": "code",
   "execution_count": 21,
   "metadata": {},
   "outputs": [
    {
     "name": "stdout",
     "output_type": "stream",
     "text": [
      "Python array Multiplication: [1, 2, 3, 1, 2, 3]\n",
      "Python array multiplication: [2 4 6]\n",
      "\n",
      "List operation time: 2153.309623479843\n",
      "\n",
      "Numpy operation time: 0.7308552265167236\n"
     ]
    }
   ],
   "source": [
    "py_list = [1, 2, 3]\n",
    "print(f\"Python array Multiplication: {py_list * 2}\")\n",
    "\n",
    "np_array = np.array([1, 2, 3])   # Element wise multiplication\n",
    "print(f\"Python array multiplication: {np_array * 2}\")\n",
    "\n",
    "start = time.time()\n",
    "py_list = [i*2 for i in range(10000)]\n",
    "print(f\"\\nList operation time: {time.time() - start}\")\n",
    "\n",
    "start = time.time()\n",
    "np_array =np.arange(10000) * 2\n",
    "print(f\"\\nNumpy operation time: {time.time() - start}\")"
   ]
  },
  {
   "cell_type": "markdown",
   "id": "35a826a3",
   "metadata": {},
   "source": [
    "## Creating array from scratch"
   ]
  },
  {
   "cell_type": "code",
   "execution_count": 22,
   "metadata": {},
   "outputs": [
    {
     "name": "stdout",
     "output_type": "stream",
     "text": [
      "Zeros Array: \n",
      " [[0. 0. 0. 0.]\n",
      " [0. 0. 0. 0.]\n",
      " [0. 0. 0. 0.]]\n",
      "Ones Array: \n",
      " [[1. 1. 1. 1.]\n",
      " [1. 1. 1. 1.]\n",
      " [1. 1. 1. 1.]]\n",
      "Full Array: \n",
      " [[7 7]\n",
      " [7 7]]\n",
      "Random Array: \n",
      " [[0.43719935 0.65058474 0.34496315]\n",
      " [0.05337518 0.24778733 0.29594187]]\n",
      "Sequence Array: \n",
      " [0 2 4 6 8]\n"
     ]
    }
   ],
   "source": [
    "zeros = np.zeros((3, 4))\n",
    "print(f\"Zeros Array: \\n {zeros}\")\n",
    "\n",
    "ones = np.ones((3, 4))\n",
    "print(f\"Ones Array: \\n {ones}\")\n",
    "\n",
    "full = np.full((2, 2), 7)\n",
    "print(f\"Full Array: \\n {full}\")\n",
    "\n",
    "random = np.random.random((2, 3))\n",
    "print(f\"Random Array: \\n {random}\")\n",
    "\n",
    "sequence = np.arange(0, 10, 2)\n",
    "print(f\"Sequence Array: \\n {sequence}\")"
   ]
  },
  {
   "cell_type": "markdown",
   "id": "31b4c445",
   "metadata": {},
   "source": [
    "## Vector, Matrix and Tensor"
   ]
  },
  {
   "cell_type": "code",
   "execution_count": 23,
   "id": "36001d9e",
   "metadata": {},
   "outputs": [
    {
     "name": "stdout",
     "output_type": "stream",
     "text": [
      "Vector: \n",
      " [1 2 3]\n",
      "\n",
      "\n",
      "Matrix: \n",
      " [[1 2 3]\n",
      " [4 5 6]]\n",
      "\n",
      "\n",
      "Tensor: \n",
      " [[[ 1  2  3]\n",
      "  [ 4  5  6]]\n",
      "\n",
      " [[ 7  8  9]\n",
      "  [10 11 12]]]\n"
     ]
    }
   ],
   "source": [
    "vector = np.array([1, 2, 3])\n",
    "print(\"Vector: \\n\", vector)\n",
    "print(\"\\n\")\n",
    "\n",
    "matrix = np.array([[1, 2, 3], [4, 5, 6]])\n",
    "print(\"Matrix: \\n\", matrix)\n",
    "print(\"\\n\")\n",
    "\n",
    "tensor = np.array([[[1, 2, 3], [4, 5, 6]], [[7, 8, 9], [10, 11, 12]]])\n",
    "print(\"Tensor: \\n\", tensor)"
   ]
  },
  {
   "cell_type": "markdown",
   "id": "033f377e",
   "metadata": {},
   "source": [
    "## Array Properties"
   ]
  },
  {
   "cell_type": "code",
   "execution_count": 24,
   "metadata": {},
   "outputs": [
    {
     "name": "stdout",
     "output_type": "stream",
     "text": [
      "Shape of Array:  (2, 3)\n",
      "Dimension of array:  2\n",
      "Size of Array:  6\n",
      "Dtype of Array:  int64\n"
     ]
    }
   ],
   "source": [
    "arr = np.array([[1, 2, 3],\n",
    "                [4, 5, 6]])\n",
    "\n",
    "print(\"Shape of Array: \", arr.shape)\n",
    "print(\"Dimension of array: \", arr.ndim)\n",
    "print(\"Size of Array: \", arr.size)\n",
    "print(\"Dtype of Array: \", arr.dtype)"
   ]
  },
  {
   "cell_type": "markdown",
   "id": "d689a7c4",
   "metadata": {},
   "source": [
    "## Array Reshaping"
   ]
  },
  {
   "cell_type": "code",
   "execution_count": 30,
   "metadata": {},
   "outputs": [
    {
     "name": "stdout",
     "output_type": "stream",
     "text": [
      "original Array:  [ 0  1  2  3  4  5  6  7  8  9 10 11]\n",
      "\n",
      "Reshaped Array:  [[ 0  1  2  3]\n",
      " [ 4  5  6  7]\n",
      " [ 8  9 10 11]]\n",
      "\n",
      "Flattended Array:  [ 0  1  2  3  4  5  6  7  8  9 10 11]\n",
      "\n",
      "Raveled Array:  [ 0  1  2  3  4  5  6  7  8  9 10 11]\n",
      "\n",
      "Transposed Array:  [[ 0  4  8]\n",
      " [ 1  5  9]\n",
      " [ 2  6 10]\n",
      " [ 3  7 11]]\n"
     ]
    }
   ],
   "source": [
    "arr = np.arange(12)\n",
    "print(\"original Array: \", arr)\n",
    "\n",
    "reshaped = arr.reshape((3, 4))\n",
    "print(\"\\nReshaped Array: \", reshaped)\n",
    "\n",
    "flattened = reshaped.flatten()\n",
    "print(\"\\nFlattended Array: \", flattened)\n",
    "\n",
    "# ravel (return view, instead of copy)\n",
    "raveled = reshaped.ravel()\n",
    "print(\"\\nRaveled Array: \", raveled)\n",
    "\n",
    "# Transpose\n",
    "transpose = reshaped.T\n",
    "print(\"\\nTransposed Array: \", transpose)\n"
   ]
  }
 ],
 "metadata": {
  "kernelspec": {
   "display_name": "Python (uv-env)",
   "language": "python",
   "name": "uv-env"
  },
  "language_info": {
   "codemirror_mode": {
    "name": "ipython",
    "version": 3
   },
   "file_extension": ".py",
   "mimetype": "text/x-python",
   "name": "python",
   "nbconvert_exporter": "python",
   "pygments_lexer": "ipython3",
   "version": "3.12.3"
  }
 },
 "nbformat": 4,
 "nbformat_minor": 5
}
