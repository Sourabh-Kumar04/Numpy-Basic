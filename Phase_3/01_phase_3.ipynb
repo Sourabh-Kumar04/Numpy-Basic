{
 "cells": [
  {
   "cell_type": "markdown",
   "id": "73fa754d",
   "metadata": {},
   "source": [
    "## Advance Operations with Bussiness Examples"
   ]
  },
  {
   "cell_type": "code",
   "execution_count": null,
   "id": "504f3e55",
   "metadata": {},
   "outputs": [],
   "source": [
    "import numpy as np\n",
    "import matplotlib.pyplot as plt"
   ]
  },
  {
   "cell_type": "code",
   "execution_count": null,
   "id": "4114ca87",
   "metadata": {},
   "outputs": [],
   "source": [
    "# Data structure: [restaurant_id, 2021, 2022, 2023, 2024]\n",
    "\n",
    "sales_data = np.array([\n",
    "    [1, 150000, 180000, 220000, 250000],  # Paradise Biryani\n",
    "    [2, 120000, 140000, 160000, 190000],  # Beijing Bites\n",
    "    [3, 200000, 230000, 260000, 300000],  # Pizza Hub\n",
    "    [4, 180000, 210000, 240000, 270000],  # Burger Point\n",
    "    [5, 160000, 185000, 205000, 230000]   # Chai Point\n",
    "])"
   ]
  },
  {
   "cell_type": "code",
   "execution_count": null,
   "metadata": {},
   "outputs": [],
   "source": [
    "print(\"---Zomotato---\")\n",
    "print(\"\\n Sales data shape: \", sales_data.shape)\n",
    "print(\"\\nSample data for 1st # restaurant: \\n\", sales_data[:3])\n",
    "print(\"\\nSample data for 1st # restaurant: \\n\", sales_data[:, 1:])"
   ]
  },
  {
   "cell_type": "code",
   "execution_count": null,
   "metadata": {},
   "outputs": [],
   "source": [
    "# Total sales per year\n",
    "Year_total_of_all_restaurant = np.sum(sales_data[:, 1:], axis=0)\n",
    "print(\"\\nYear sales of all restaurant combined: \",Year_total_of_all_restaurant)\n",
    "\n",
    "# Maximum Sales per year\n",
    "max_sales_per_year = np.max(sales_data[:, 1:], axis=0)\n",
    "print(F\"\\nMaximum sales per year: {max_sales_per_year}\")\n",
    "\n",
    "# Total Sales per restaurant\n",
    "Restaurant_Total_sales = np.sum(sales_data[:, 1:], axis=1)\n",
    "print(\"\\nRestaurant Sales : \", Restaurant_Total_sales)\n",
    "\n",
    "# Minimun Sales per restaurant\n",
    "min_sales_per_restaurant = np.min(sales_data[:, 1:], axis=1)\n",
    "print(F\"\\nMinimum sales per restaurant: {min_sales_per_restaurant}\")\n",
    "\n",
    "# Maximum Sales per restaurant\n",
    "max_sales_per_restaurant = np.max(sales_data[:, 1:], axis=1)\n",
    "print(F\"\\nMinimum sales per restaurant: {max_sales_per_restaurant}\")\n",
    "\n",
    "# Average Sales per restaurant using average()\n",
    "average_sales_per_restaurant = np.average(sales_data[:, 1:], axis=1)\n",
    "print(F\"\\nAverage sales per restaurant: {average_sales_per_restaurant}\")\n",
    "\n",
    "# Average Sales per restaurant using mean()\n",
    "average_sales_per_restaurant = np.mean(sales_data[:, 1:], axis=1)\n",
    "print(F\"\\nAverage sales per restaurant: {average_sales_per_restaurant}\")"
   ]
  },
  {
   "cell_type": "code",
   "execution_count": null,
   "metadata": {},
   "outputs": [],
   "source": [
    "# Cumulative Sales\n",
    "cumsum = np.cumsum(sales_data[:, 1:], axis=1)\n",
    "print(\"Cumulative Sum: \\n\", cumsum)\n",
    "\n",
    "plt.figure(figsize=(8, 6))\n",
    "plt.plot(np.mean(cumsum, axis=0))\n",
    "plt.title(\"Average cumulative sales of all restaurant \")\n",
    "plt.xlabel(\"Years\")\n",
    "plt.ylabel(\"Sales\")\n",
    "plt.grid(True)\n",
    "plt.show()"
   ]
  },
  {
   "cell_type": "code",
   "execution_count": null,
   "metadata": {},
   "outputs": [],
   "source": [
    "vector1 = np.array([1, 2, 3, 4, 5])\n",
    "vector2 = np.array([6, 7, 8, 9, 10])\n",
    "\n",
    "print(\"Vector Addition : \", vector1 + vector2)\n",
    "print(\"\\nVector Mulpilication : \", vector1 * vector2)\n",
    "print(\"\\nDot Product : \", np.dot(vector1, vector2))\n",
    "\n",
    "angle = np.arccos(np.dot(vector1, vector2) / (np.linalg.norm(vector1) * np.linalg.norm(vector2)))\n",
    "print(\"Angle between two vector is : \", angle)\n"
   ]
  },
  {
   "cell_type": "markdown",
   "id": "d0319d58",
   "metadata": {},
   "source": [
    "### Vectorized Operation"
   ]
  },
  {
   "cell_type": "code",
   "execution_count": null,
   "metadata": {},
   "outputs": [],
   "source": [
    "restaurant_type = np.array(['biryani', 'chinese', 'pizza', 'burger', 'cafe'])\n",
    "vectorized_upper = np.vectorize(str.upper)\n",
    "print(\"Vectorized upper: \", vectorized_upper(restaurant_type))"
   ]
  },
  {
   "cell_type": "markdown",
   "id": "81538b6d",
   "metadata": {},
   "source": [
    "### Broadcast Operation"
   ]
  },
  {
   "cell_type": "code",
   "execution_count": null,
   "metadata": {},
   "outputs": [],
   "source": [
    "monthly_avg = sales_data[:, 1:] / 12\n",
    "\n",
    "print(monthly_avg)"
   ]
  }
 ],
 "metadata": {
  "kernelspec": {
   "display_name": ".venv",
   "language": "python",
   "name": "python3"
  },
  "language_info": {
   "codemirror_mode": {
    "name": "ipython",
    "version": 3
   },
   "file_extension": ".py",
   "mimetype": "text/x-python",
   "name": "python",
   "nbconvert_exporter": "python",
   "pygments_lexer": "ipython3",
   "version": "3.12.3"
  }
 },
 "nbformat": 4,
 "nbformat_minor": 5
}
